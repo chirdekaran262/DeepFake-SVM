{
 "cells": [
  {
   "cell_type": "markdown",
   "id": "587df299",
   "metadata": {},
   "source": [
    "# DeepFake Audio Detection using MFCC Features"
   ]
  },
  {
   "cell_type": "code",
   "execution_count": 26,
   "id": "656eb9e7",
   "metadata": {},
   "outputs": [],
   "source": [
    "# Import required libraries\n",
    "import os\n",
    "import glob\n",
    "import librosa\n",
    "import numpy as np\n",
    "from sklearn.model_selection import train_test_split\n",
    "from sklearn.preprocessing import StandardScaler\n",
    "from sklearn.svm import SVC\n",
    "from sklearn.metrics import accuracy_score, confusion_matrix, classification_report\n",
    "import joblib\n",
    "from sklearn.linear_model import LogisticRegression\n",
    "from sklearn.tree import DecisionTreeClassifier"
   ]
  },
  {
   "cell_type": "code",
   "execution_count": 27,
   "id": "2e588728",
   "metadata": {},
   "outputs": [],
   "source": [
    "## Data Loading and Exploration"
   ]
  },
  {
   "cell_type": "code",
   "execution_count": 28,
   "id": "d521331b",
   "metadata": {},
   "outputs": [
    {
     "name": "stdout",
     "output_type": "stream",
     "text": [
      "Number of genuine audio files: 28\n",
      "Number of deepfake audio files: 29\n",
      "\n",
      "Sample genuine files:\n",
      "- 2.wav\n",
      "- 21.wav\n",
      "- 22.wav\n",
      "\n",
      "Sample deepfake files:\n",
      "- 1.wav\n",
      "- 10.wav\n",
      "- 11.wav\n"
     ]
    }
   ],
   "source": [
    "# Set paths\n",
    "genuine_dir = \"real_audio\"\n",
    "deepfake_dir = \"deepfake_audio\"\n",
    "\n",
    "# List audio files\n",
    "genuine_files = glob.glob(os.path.join(genuine_dir, \"*.wav\"))\n",
    "deepfake_files = glob.glob(os.path.join(deepfake_dir, \"*.wav\"))\n",
    "\n",
    "print(f\"Number of genuine audio files: {len(genuine_files)}\")\n",
    "print(f\"Number of deepfake audio files: {len(deepfake_files)}\")\n",
    "\n",
    "# Display first few files from each directory\n",
    "print(\"\\nSample genuine files:\")\n",
    "for file in genuine_files[:3]:\n",
    "    print(f\"- {os.path.basename(file)}\")\n",
    "\n",
    "print(\"\\nSample deepfake files:\")\n",
    "for file in deepfake_files[:3]:\n",
    "    print(f\"- {os.path.basename(file)}\")"
   ]
  },
  {
   "cell_type": "code",
   "execution_count": 29,
   "id": "54197fa3",
   "metadata": {},
   "outputs": [],
   "source": [
    "## Feature Extraction"
   ]
  },
  {
   "cell_type": "code",
   "execution_count": 30,
   "id": "90b1daaa",
   "metadata": {},
   "outputs": [
    {
     "name": "stdout",
     "output_type": "stream",
     "text": [
      "Testing with file: 2.wav\n",
      "\n",
      "Feature shapes:\n",
      "MFCC shape: (13, 129)\n",
      "Spectral Contrast shape: (7, 129)\n",
      "Chroma shape: (12, 129)\n"
     ]
    }
   ],
   "source": [
    "# Test feature extraction on one file\n",
    "sample_file = genuine_files[0]\n",
    "print(f\"Testing with file: {os.path.basename(sample_file)}\")\n",
    "\n",
    "# Load audio\n",
    "audio_data, sr = librosa.load(sample_file, sr=None)\n",
    "\n",
    "# Extract features\n",
    "mfccs = librosa.feature.mfcc(y=audio_data, sr=sr, n_mfcc=13)\n",
    "spectral_contrast = librosa.feature.spectral_contrast(y=audio_data, sr=sr)\n",
    "chroma = librosa.feature.chroma_stft(y=audio_data, sr=sr)\n",
    "\n",
    "print(f\"\\nFeature shapes:\")\n",
    "print(f\"MFCC shape: {mfccs.shape}\")\n",
    "print(f\"Spectral Contrast shape: {spectral_contrast.shape}\")\n",
    "print(f\"Chroma shape: {chroma.shape}\")"
   ]
  },
  {
   "cell_type": "code",
   "execution_count": 31,
   "id": "cda5e055",
   "metadata": {},
   "outputs": [
    {
     "data": {
      "text/plain": [
       "array([110.98104  , 124.308205 , 125.77492  , 139.12149  , 142.5968   ,\n",
       "       121.15544  , 106.72789  , 116.64188  , 132.10913  , 120.67848  ,\n",
       "       103.57238  , 109.26511  , 107.32579  , 101.04616  , 104.75711  ,\n",
       "       117.84329  ,  94.80696  ,  81.006424 ,  93.52504  ,  65.56325  ,\n",
       "        13.509817 , -15.664465 ,  -7.859823 ,  50.064995 ,  92.541626 ,\n",
       "        46.84996  ,   6.117628 , -13.147669 ,   4.1916666,  71.09328  ,\n",
       "       121.19969  , 125.125336 , 123.256966 , 112.307816 ,  64.22829  ,\n",
       "        24.728376 ,  -6.2048264, -18.366722 ,   6.095236 ,  79.736206 ,\n",
       "       127.98952  , 115.89934  , 118.50145  , 120.33327  , 102.3519   ,\n",
       "        90.82309  ,  90.83484  , 103.466354 , 122.49209  , 114.05806  ,\n",
       "       136.58801  , 140.2486   , 136.08212  , 152.21625  , 148.69955  ,\n",
       "       142.88342  , 149.73776  , 142.38037  , 128.85352  , 113.64252  ,\n",
       "       108.19478  , 113.51654  , 109.33081  ,  38.54744  ,  33.68409  ,\n",
       "        55.053444 ,  84.11131  ,  95.67732  ,  96.47676  ,  93.82817  ,\n",
       "        94.11391  , 103.60225  , 115.486626 , 111.203476 ,  85.61424  ,\n",
       "        67.163895 ,  76.1639   ,  71.93702  ,  70.741    ,  90.141754 ,\n",
       "       119.68939  , 107.87323  , 103.83155  , 100.498566 ,  55.870777 ,\n",
       "        65.97809  ,  99.87662  , 123.817535 , 128.23448  , 126.73372  ,\n",
       "       116.888245 , 100.13725  ,  12.099786 ,  -5.5324206,   3.3245616,\n",
       "        45.747887 ,  94.341415 ,  98.80298  ,  85.26793  ,  92.09082  ,\n",
       "       110.45941  , 113.35511  , 108.705734 , 108.33644  , 104.3736   ,\n",
       "        99.52502  , 104.50788  , 108.396454 , 108.792816 , 108.187164 ,\n",
       "       107.75714  , 112.30075  , 114.12872  , 108.32378  , 105.98103  ,\n",
       "       107.28132  , 103.93034  ,  99.70571  ,  98.94483  , 106.650665 ,\n",
       "       109.91348  , 107.6819   , 100.44771  ,  97.87024  , 101.06326  ,\n",
       "       105.66211  , 102.22318  ,  96.40816  ,  92.17183  ], dtype=float32)"
      ]
     },
     "execution_count": 31,
     "metadata": {},
     "output_type": "execute_result"
    }
   ],
   "source": [
    "mfccs[1]"
   ]
  },
  {
   "cell_type": "code",
   "execution_count": 32,
   "id": "167b8de3",
   "metadata": {},
   "outputs": [],
   "source": [
    "## Process All Files"
   ]
  },
  {
   "cell_type": "code",
   "execution_count": 33,
   "id": "16e6c909",
   "metadata": {},
   "outputs": [
    {
     "name": "stdout",
     "output_type": "stream",
     "text": [
      "Dataset shape: (57, 32)\n",
      "Number of features: 32\n",
      "Class distribution: [28 29]\n"
     ]
    }
   ],
   "source": [
    "# Initialize lists for features and labels\n",
    "X = []\n",
    "y = []\n",
    "\n",
    "# Process genuine files\n",
    "for audio_path in genuine_files:\n",
    "    try:\n",
    "        # Load and extract features\n",
    "        audio_data, sr = librosa.load(audio_path, sr=None)\n",
    "        \n",
    "        # Extract features\n",
    "        mfccs = librosa.feature.mfcc(y=audio_data, sr=sr, n_mfcc=13)\n",
    "        spectral_contrast = librosa.feature.spectral_contrast(y=audio_data, sr=sr)\n",
    "        chroma = librosa.feature.chroma_stft(y=audio_data, sr=sr)\n",
    "        \n",
    "        # Calculate means\n",
    "        mfccs_mean = np.mean(mfccs.T, axis=0)\n",
    "        spectral_contrast_mean = np.mean(spectral_contrast.T, axis=0)\n",
    "        chroma_mean = np.mean(chroma.T, axis=0)\n",
    "        \n",
    "        # Combine features\n",
    "        combined_features = np.concatenate((mfccs_mean, spectral_contrast_mean, chroma_mean))\n",
    "        \n",
    "        X.append(combined_features)\n",
    "        y.append(0)  # 0 for genuine\n",
    "        \n",
    "    except Exception as e:\n",
    "        print(f\"Error processing {audio_path}: {e}\")\n",
    "\n",
    "# Process deepfake files\n",
    "for audio_path in deepfake_files:\n",
    "    try:\n",
    "        # Load and extract features\n",
    "        audio_data, sr = librosa.load(audio_path, sr=None)\n",
    "        \n",
    "        # Extract features\n",
    "        mfccs = librosa.feature.mfcc(y=audio_data, sr=sr, n_mfcc=13)\n",
    "        spectral_contrast = librosa.feature.spectral_contrast(y=audio_data, sr=sr)\n",
    "        chroma = librosa.feature.chroma_stft(y=audio_data, sr=sr)\n",
    "        \n",
    "        # Calculate means\n",
    "        mfccs_mean = np.mean(mfccs.T, axis=0)\n",
    "        spectral_contrast_mean = np.mean(spectral_contrast.T, axis=0)\n",
    "        chroma_mean = np.mean(chroma.T, axis=0)\n",
    "        \n",
    "        # Combine features\n",
    "        combined_features = np.concatenate((mfccs_mean, spectral_contrast_mean, chroma_mean))\n",
    "        \n",
    "        X.append(combined_features)\n",
    "        y.append(1)  # 1 for deepfake\n",
    "        \n",
    "    except Exception as e:\n",
    "        print(f\"Error processing {audio_path}: {e}\")\n",
    "\n",
    "X = np.array(X)\n",
    "y = np.array(y)\n",
    "\n",
    "print(f\"Dataset shape: {X.shape}\")\n",
    "print(f\"Number of features: {X.shape[1]}\")\n",
    "print(f\"Class distribution: {np.bincount(y)}\")"
   ]
  },
  {
   "cell_type": "code",
   "execution_count": 34,
   "id": "1a67b637",
   "metadata": {},
   "outputs": [],
   "source": [
    "## Data Preprocessing"
   ]
  },
  {
   "cell_type": "code",
   "execution_count": 35,
   "id": "4c741647",
   "metadata": {},
   "outputs": [
    {
     "data": {
      "text/plain": [
       "0"
      ]
     },
     "execution_count": 35,
     "metadata": {},
     "output_type": "execute_result"
    }
   ],
   "source": [
    "\n",
    "y[0]"
   ]
  },
  {
   "cell_type": "code",
   "execution_count": 36,
   "id": "4a2de07d",
   "metadata": {},
   "outputs": [
    {
     "data": {
      "text/plain": [
       "array([-188.71859741,   93.33286285,   16.54830742,   20.61961746,\n",
       "        -21.47842789,   -6.78594542,  -19.66224861,   -6.61803722,\n",
       "        -10.62405396,   -9.78885746,  -16.24817848,    0.54749703,\n",
       "         -9.83342648,   22.96271403,   15.92412325,   18.0747372 ,\n",
       "         17.0788109 ,   16.74899691,   16.90173891,   18.42033942,\n",
       "          0.35680041,    0.32371879,    0.29096279,    0.27365458,\n",
       "          0.27435064,    0.27167463,    0.32886067,    0.36258084,\n",
       "          0.47570193,    0.60425293,    0.52554685,    0.50603938])"
      ]
     },
     "execution_count": 36,
     "metadata": {},
     "output_type": "execute_result"
    }
   ],
   "source": [
    "X[0]"
   ]
  },
  {
   "cell_type": "code",
   "execution_count": 37,
   "id": "546eef37",
   "metadata": {},
   "outputs": [
    {
     "name": "stdout",
     "output_type": "stream",
     "text": [
      "Training set shape: (45, 32)\n",
      "Testing set shape: (12, 32)\n"
     ]
    }
   ],
   "source": [
    "# Split dataset\n",
    "X_train, X_test, y_train, y_test = train_test_split(X, y, test_size=0.2, random_state=42, stratify=y)\n",
    "\n",
    "# Scale features\n",
    "scaler = StandardScaler()\n",
    "X_train_scaled = scaler.fit_transform(X_train)\n",
    "X_test_scaled = scaler.transform(X_test)\n",
    "\n",
    "print(\"Training set shape:\", X_train_scaled.shape)\n",
    "print(\"Testing set shape:\", X_test_scaled.shape)"
   ]
  },
  {
   "cell_type": "code",
   "execution_count": 38,
   "id": "418a3531",
   "metadata": {},
   "outputs": [
    {
     "data": {
      "text/plain": [
       "array([-3.28472961e+02,  1.45085388e+02, -8.57061481e+00,  3.30707397e+01,\n",
       "        9.10528469e+00, -6.08886957e+00, -2.97273159e+00, -9.12046623e+00,\n",
       "       -1.31005116e+01, -8.00512981e+00, -1.65830498e+01, -5.28410316e-01,\n",
       "       -1.91628289e+00,  2.60099876e+01,  1.93268223e+01,  2.29305940e+01,\n",
       "        2.01788594e+01,  1.92786839e+01,  2.36084617e+01,  2.26102482e+01,\n",
       "        4.49965179e-01,  3.26792032e-01,  2.28594303e-01,  1.78528398e-01,\n",
       "        1.77021176e-01,  2.20385313e-01,  2.39351675e-01,  2.76793361e-01,\n",
       "        2.75653124e-01,  2.90136188e-01,  4.44750637e-01,  4.96096939e-01])"
      ]
     },
     "execution_count": 38,
     "metadata": {},
     "output_type": "execute_result"
    }
   ],
   "source": [
    "X_train[0]"
   ]
  },
  {
   "cell_type": "code",
   "execution_count": 39,
   "id": "927c6e25",
   "metadata": {},
   "outputs": [],
   "source": [
    "## Model Training and Evaluation"
   ]
  },
  {
   "cell_type": "code",
   "execution_count": 40,
   "id": "dfb61ba8",
   "metadata": {},
   "outputs": [],
   "source": [
    "# # Train models with different kernels\n",
    "# kernels = ['linear', 'rbf', 'poly']\n",
    "# results = {}\n",
    "\n",
    "# for kernel in kernels:\n",
    "#     # Train model\n",
    "#     svm = SVC(kernel=kernel, random_state=42, probability=True)\n",
    "#     svm.fit(X_train_scaled, y_train)\n",
    "    \n",
    "#     # Evaluate\n",
    "#     y_pred = svm.predict(X_test_scaled)\n",
    "#     accuracy = accuracy_score(y_test, y_pred)\n",
    "#     results[kernel] = {\n",
    "#         'accuracy': accuracy,\n",
    "#         'model': svm,\n",
    "#         'predictions': y_pred\n",
    "#     }\n",
    "    \n",
    "#     print(f\"\\nResults for {kernel} kernel:\")\n",
    "#     print(f\"Accuracy: {accuracy:.4f}\")\n",
    "#     print(\"\\nClassification Report:\")\n",
    "#     print(classification_report(y_test, y_pred))\n",
    "#     print(\"\\nConfusion Matrix:\")\n",
    "#     print(confusion_matrix(y_test, y_pred))\n",
    "\n",
    "# # Get best model\n",
    "# best_kernel = max(results.items(), key=lambda x: x[1]['accuracy'])[0]\n",
    "# best_model = results[best_kernel]['model']\n",
    "\n",
    "# print(f\"\\nBest model: {best_kernel} kernel with accuracy: {results[best_kernel]['accuracy']:.4f}\")"
   ]
  },
  {
   "cell_type": "code",
   "execution_count": 41,
   "id": "b012c6c4",
   "metadata": {},
   "outputs": [],
   "source": [
    "def evaluate_model(model, X_train, y_train, X_test, y_test, model_name):\n",
    "    # Train model\n",
    "    model.fit(X_train, y_train)\n",
    "    \n",
    "    # Evaluate\n",
    "    y_pred = model.predict(X_test)\n",
    "    accuracy = accuracy_score(y_test, y_pred)\n",
    "    \n",
    "    print(f\"\\nResults for {model_name}:\")\n",
    "    print(f\"Accuracy: {accuracy:.4f}\")\n",
    "    print(\"\\nClassification Report:\")\n",
    "    print(classification_report(y_test, y_pred))\n",
    "    print(\"\\nConfusion Matrix:\")\n",
    "    print(confusion_matrix(y_test, y_pred))\n",
    "    \n",
    "    return {\n",
    "        'accuracy': accuracy,\n",
    "        'model': model,\n",
    "        'predictions': y_pred\n",
    "    }\n"
   ]
  },
  {
   "cell_type": "code",
   "execution_count": 42,
   "id": "b68bda19",
   "metadata": {},
   "outputs": [
    {
     "name": "stdout",
     "output_type": "stream",
     "text": [
      "\n",
      "Results for SVM_linear:\n",
      "Accuracy: 0.5833\n",
      "\n",
      "Classification Report:\n",
      "              precision    recall  f1-score   support\n",
      "\n",
      "           0       0.57      0.67      0.62         6\n",
      "           1       0.60      0.50      0.55         6\n",
      "\n",
      "    accuracy                           0.58        12\n",
      "   macro avg       0.59      0.58      0.58        12\n",
      "weighted avg       0.59      0.58      0.58        12\n",
      "\n",
      "\n",
      "Confusion Matrix:\n",
      "[[4 2]\n",
      " [3 3]]\n",
      "\n",
      "Results for SVM_rbf:\n",
      "Accuracy: 0.7500\n",
      "\n",
      "Classification Report:\n",
      "              precision    recall  f1-score   support\n",
      "\n",
      "           0       0.71      0.83      0.77         6\n",
      "           1       0.80      0.67      0.73         6\n",
      "\n",
      "    accuracy                           0.75        12\n",
      "   macro avg       0.76      0.75      0.75        12\n",
      "weighted avg       0.76      0.75      0.75        12\n",
      "\n",
      "\n",
      "Confusion Matrix:\n",
      "[[5 1]\n",
      " [2 4]]\n",
      "\n",
      "Results for SVM_poly:\n",
      "Accuracy: 0.8333\n",
      "\n",
      "Classification Report:\n",
      "              precision    recall  f1-score   support\n",
      "\n",
      "           0       1.00      0.67      0.80         6\n",
      "           1       0.75      1.00      0.86         6\n",
      "\n",
      "    accuracy                           0.83        12\n",
      "   macro avg       0.88      0.83      0.83        12\n",
      "weighted avg       0.88      0.83      0.83        12\n",
      "\n",
      "\n",
      "Confusion Matrix:\n",
      "[[4 2]\n",
      " [0 6]]\n"
     ]
    }
   ],
   "source": [
    "results = {}\n",
    "kernels = ['linear', 'rbf', 'poly']\n",
    "\n",
    "for kernel in kernels:\n",
    "    model_name = f\"SVM_{kernel}\"\n",
    "    svm = SVC(kernel=kernel, random_state=42, probability=True)\n",
    "    results[model_name] = evaluate_model(svm, X_train_scaled, y_train, X_test_scaled, y_test, model_name)\n"
   ]
  },
  {
   "cell_type": "code",
   "execution_count": 43,
   "id": "0e8ba8b2",
   "metadata": {},
   "outputs": [
    {
     "name": "stdout",
     "output_type": "stream",
     "text": [
      "\n",
      "Results for Logistic Regression:\n",
      "Accuracy: 0.6667\n",
      "\n",
      "Classification Report:\n",
      "              precision    recall  f1-score   support\n",
      "\n",
      "           0       0.67      0.67      0.67         6\n",
      "           1       0.67      0.67      0.67         6\n",
      "\n",
      "    accuracy                           0.67        12\n",
      "   macro avg       0.67      0.67      0.67        12\n",
      "weighted avg       0.67      0.67      0.67        12\n",
      "\n",
      "\n",
      "Confusion Matrix:\n",
      "[[4 2]\n",
      " [2 4]]\n"
     ]
    }
   ],
   "source": [
    "log_reg = LogisticRegression(random_state=42, max_iter=1000)\n",
    "results[\"Logistic_Regression\"] = evaluate_model(log_reg, X_train_scaled, y_train, X_test_scaled, y_test, \"Logistic Regression\")"
   ]
  },
  {
   "cell_type": "code",
   "execution_count": 44,
   "id": "36d6c93a",
   "metadata": {},
   "outputs": [
    {
     "name": "stdout",
     "output_type": "stream",
     "text": [
      "\n",
      "Results for Decision Tree:\n",
      "Accuracy: 0.7500\n",
      "\n",
      "Classification Report:\n",
      "              precision    recall  f1-score   support\n",
      "\n",
      "           0       0.80      0.67      0.73         6\n",
      "           1       0.71      0.83      0.77         6\n",
      "\n",
      "    accuracy                           0.75        12\n",
      "   macro avg       0.76      0.75      0.75        12\n",
      "weighted avg       0.76      0.75      0.75        12\n",
      "\n",
      "\n",
      "Confusion Matrix:\n",
      "[[4 2]\n",
      " [1 5]]\n"
     ]
    }
   ],
   "source": [
    "#Train and evaluate Decision Tree\n",
    "dt = DecisionTreeClassifier(random_state=42)\n",
    "results[\"Decision_Tree\"] = evaluate_model(dt, X_train_scaled, y_train, X_test_scaled, y_test, \"Decision Tree\")"
   ]
  },
  {
   "cell_type": "code",
   "execution_count": 45,
   "id": "41e484ce",
   "metadata": {},
   "outputs": [
    {
     "name": "stdout",
     "output_type": "stream",
     "text": [
      "\n",
      "Best model: SVM_poly with accuracy: 0.8333\n"
     ]
    }
   ],
   "source": [
    "best_model_name = max(results.items(), key=lambda x: x[1]['accuracy'])[0]\n",
    "best_model = results[best_model_name]['model']\n",
    "best_accuracy = results[best_model_name]['accuracy']\n",
    "print(f\"\\nBest model: {best_model_name} with accuracy: {best_accuracy:.4f}\")"
   ]
  },
  {
   "cell_type": "code",
   "execution_count": 46,
   "id": "d8a9aa42",
   "metadata": {},
   "outputs": [],
   "source": [
    "model_names = list(results.keys())\n",
    "accuracies = [results[model]['accuracy'] for model in model_names]"
   ]
  },
  {
   "cell_type": "code",
   "execution_count": 47,
   "id": "eb4c68f5",
   "metadata": {},
   "outputs": [],
   "source": [
    "## Save Model"
   ]
  },
  {
   "cell_type": "code",
   "execution_count": 48,
   "id": "7a05bde6",
   "metadata": {},
   "outputs": [
    {
     "name": "stdout",
     "output_type": "stream",
     "text": [
      "Model and scaler saved successfully!\n"
     ]
    }
   ],
   "source": [
    "# Save model and scaler\n",
    "joblib.dump(best_model, \"enhanced_svm_model.pkl\")\n",
    "joblib.dump(scaler, \"enhanced_scaler.pkl\")\n",
    "print(\"Model and scaler saved successfully!\")"
   ]
  },
  {
   "cell_type": "code",
   "execution_count": 49,
   "id": "cd316ce3",
   "metadata": {},
   "outputs": [],
   "source": [
    "## Test Model"
   ]
  },
  {
   "cell_type": "code",
   "execution_count": 50,
   "id": "db2ace25",
   "metadata": {},
   "outputs": [
    {
     "name": "stdout",
     "output_type": "stream",
     "text": [
      "The audio is classified as genuine with 91.56% confidence\n"
     ]
    }
   ],
   "source": [
    "def test_audio(audio_path):\n",
    "    # Load and process audio\n",
    "    audio_data, sr = librosa.load(audio_path, sr=None)\n",
    "    \n",
    "    # Extract features\n",
    "    mfccs = librosa.feature.mfcc(y=audio_data, sr=sr, n_mfcc=13)\n",
    "    spectral_contrast = librosa.feature.spectral_contrast(y=audio_data, sr=sr)\n",
    "    chroma = librosa.feature.chroma_stft(y=audio_data, sr=sr)\n",
    "    \n",
    "    # Calculate means\n",
    "    mfccs_mean = np.mean(mfccs.T, axis=0)\n",
    "    spectral_contrast_mean = np.mean(spectral_contrast.T, axis=0)\n",
    "    chroma_mean = np.mean(chroma.T, axis=0)\n",
    "    \n",
    "    # Combine features\n",
    "    features = np.concatenate((mfccs_mean, spectral_contrast_mean, chroma_mean))\n",
    "    \n",
    "    # Scale features\n",
    "    features_scaled = scaler.transform(features.reshape(1, -1))\n",
    "    \n",
    "    # Predict\n",
    "    prediction = best_model.predict(features_scaled)\n",
    "    probability = best_model.predict_proba(features_scaled)[0]\n",
    "    \n",
    "    result = \"genuine\" if prediction[0] == 0 else \"deepfake\"\n",
    "    confidence = probability[prediction[0]] * 100\n",
    "    \n",
    "    return f\"The audio is classified as {result} with {confidence:.2f}% confidence\"\n",
    "\n",
    "# Test with a sample file\n",
    "test_file = \"real_audio/21.wav\"  # Replace with actual test file path\n",
    "print(test_audio(test_file))"
   ]
  },
  {
   "cell_type": "code",
   "execution_count": null,
   "id": "4b702eb4",
   "metadata": {},
   "outputs": [],
   "source": []
  }
 ],
 "metadata": {
  "kernelspec": {
   "display_name": "Python 3 (ipykernel)",
   "language": "python",
   "name": "python3"
  },
  "language_info": {
   "codemirror_mode": {
    "name": "ipython",
    "version": 3
   },
   "file_extension": ".py",
   "mimetype": "text/x-python",
   "name": "python",
   "nbconvert_exporter": "python",
   "pygments_lexer": "ipython3",
   "version": "3.11.1"
  }
 },
 "nbformat": 4,
 "nbformat_minor": 5
}
